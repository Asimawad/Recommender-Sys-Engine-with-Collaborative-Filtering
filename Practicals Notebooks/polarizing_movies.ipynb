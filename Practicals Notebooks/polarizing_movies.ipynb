{
 "cells": [
  {
   "cell_type": "markdown",
   "metadata": {},
   "source": [
    "# Imports "
   ]
  },
  {
   "cell_type": "code",
   "execution_count": 86,
   "metadata": {},
   "outputs": [],
   "source": [
    "import numpy as np\n",
    "import pandas as pd\n",
    "import polars as pl\n",
    "import time\n",
    "from src.Latent_Factor_Updates import Update_movie_factors_with_features, Update_user_biases, Update_user_factors, Update_movie_biases, update_feature_factors, calc_metrics\n",
    "from src.Helper_Functions import load_model, Load_idx_maps,create_fake_user ,setup_logging, setup_experiment_folder, Load_training_data, Load_idx_maps, Load_test_data, get_possible_movie_indices\n"
   ]
  },
  {
   "cell_type": "code",
   "execution_count": 100,
   "metadata": {},
   "outputs": [],
   "source": [
    "\n",
    "def create_idx_to_title(movies_csv_path, movie_idx_map):\n",
    "    # Load the movies.csv file into a DataFrame\n",
    "    movies_df = pd.read_csv(movies_csv_path)\n",
    "\n",
    "    # Ensure columns 'movieId' and 'title' exist in the DataFrame\n",
    "    if 'movieId' not in movies_df.columns or 'title' not in movies_df.columns:\n",
    "        raise ValueError(\"The CSV file must contain 'movieId' and 'title' columns.\")\n",
    "\n",
    "    # Create a mapping from movie_id to title\n",
    "    movie_id_to_title = dict(zip(movies_df['movieId'], movies_df['title']))\n",
    "\n",
    "    # Create the idx_to_title dictionary using movie_idx_map\n",
    "\n",
    "    idx_to_title = {idx: movie_id_to_title[movie_id] for movie_id, idx in movie_idx_map.items() if movie_id in movie_id_to_title}\n",
    "\n",
    "    return idx_to_title\n",
    "movies_csv_path = \"Data/ml-32m/movies.csv\"  # Path to the movies.csv file\n",
    "idx_to_title = create_idx_to_title(movies_csv_path, movie_idx_map)"
   ]
  },
  {
   "cell_type": "markdown",
   "metadata": {},
   "source": [
    "## Polarizing Movies By rating standard deviation\n",
    "\n",
    "A polarizing movie has a wide spread of ratings, meaning some users rate it very high, while others rate it very low. Statistically, you can define polarization using the standard deviation of ratings.\n",
    "\n",
    "    High standard deviation of ratings → High polarization.\n",
    "    Low standard deviation of ratings → Low polarization."
   ]
  },
  {
   "cell_type": "code",
   "execution_count": null,
   "metadata": {},
   "outputs": [],
   "source": [
    "source_data_folder = \"Training_data/ml-32m\"\n",
    "\n",
    "users_train, movies_train, movies_train_idxes, users_train_idxes, movies_genres_array = Load_training_data(source_data_folder)\n",
    "users_test, movies_test, users_test_idxes, movies_test_idxes = Load_test_data(source_data_folder)\n",
    "user_idx_map, movie_idx_map, idx_to_user, idx_to_movie, genre_to_idx, specific_indices = Load_idx_maps(source_data_folder)"
   ]
  },
  {
   "cell_type": "code",
   "execution_count": 78,
   "metadata": {},
   "outputs": [],
   "source": [
    "ratings = pd.read_csv(\"Data/ml-32m/ratings.csv\")"
   ]
  },
  {
   "cell_type": "code",
   "execution_count": 94,
   "metadata": {},
   "outputs": [
    {
     "name": "stdout",
     "output_type": "stream",
     "text": [
      "Movies Mean: [3.94334483 3.67890239 3.92748404 3.63284612 3.90872955 3.58488035\n",
      " 3.92296505 3.76151013 3.98983526 4.07776451]\n",
      "Movies Std: [0.96912217 1.03243673 0.98380136 0.97880602 0.85970008 1.1091882\n",
      " 0.90053898 1.03916454 0.96618515 0.85426992]\n"
     ]
    },
    {
     "data": {
      "text/plain": [
       "(82486,)"
      ]
     },
     "execution_count": 94,
     "metadata": {},
     "output_type": "execute_result"
    }
   ],
   "source": [
    "movies_train_ratings = movies_train[:, 1]\n",
    "\n",
    "# Initialize lists to store mean and standard deviation\n",
    "movies_mean = []\n",
    "movies_std = []\n",
    "\n",
    "# Process train ratings\n",
    "for rate in movies_train_ratings:\n",
    "    # Convert to float if necessary\n",
    "    movies_mean.append(float(np.mean(rate)))\n",
    "    movies_std.append(float(np.std(rate)))\n",
    "\n",
    "\n",
    "\n",
    "movies_mean = np.array(movies_mean)\n",
    "movies_std = np.array(movies_std)\n",
    "print(\"Movies Mean:\", movies_mean[:10])\n",
    "print(\"Movies Std:\", movies_std[:10])\n",
    "movies_std.shape\n"
   ]
  },
  {
   "cell_type": "code",
   "execution_count": 91,
   "metadata": {},
   "outputs": [
    {
     "name": "stdout",
     "output_type": "stream",
     "text": [
      "Top polarizing_movies indexes by std: [65160 74306 52180 46898 78432 49242 65119 65098 65318 65316 65342 65090\n",
      " 62663 67589 67586 42894 16788 61696 46555 65490 59152 71225 55038 76972\n",
      " 71319 65378 49444 40641 40640 51462 51521 52833 17667 61465 61446 51407\n",
      " 78569 37140 73420 74069 44092 44128 58616 64970 51445 61380 68610 68646\n",
      " 51395 61174]\n",
      "Least polarizing movie indexes by std: [37288 63506 63505 63504 63503 63513 63512 63511 63529 37291 37289 63540\n",
      " 37286 37285 37284 37283 37314 37263 37259 63590 63587 63569 63487 63498\n",
      " 63497 63496 63495 63494 63491 63461 63460 63489 63488 63567 37258 37256\n",
      " 37254 63525 63523 63554 63550 63549 63546 63542 63654 63640 63637 63636\n",
      " 63615 63605]\n"
     ]
    }
   ],
   "source": [
    "# Get the indexes of the top 50 movies with the highest standard deviation\n",
    "most_polarizing_movies_idx_std = np.argsort(movies_std)[-50:][::-1]  # Sort in descending order\n",
    "least_polarizing_movies_idx_std = np.argsort(movies_std)[:50]# Sort in descending order\n",
    "\n",
    "# Print the top 50 indexes\n",
    "print(\"Top polarizing_movies indexes by std:\", most_polarizing_movies_idx_std)\n",
    "print(\"Least polarizing movie indexes by std:\", least_polarizing_movies_idx_std)\n"
   ]
  },
  {
   "cell_type": "code",
   "execution_count": 93,
   "metadata": {},
   "outputs": [
    {
     "name": "stdout",
     "output_type": "stream",
     "text": [
      "Most Polarizing Movies by std: [\"Bernard Herrmann: Hitchcock's Maestro (2008)\", 'The Girl Who Escaped: The Kara Robinson Story (2023)', 'The Marchers (2013)', 'The Hat (1999)', 'Senior Entourage (2021)', 'Otaku (1994)', 'Flowers for Madame (1935)', 'Sunshine Dad (1916)', 'On the Hook! (2011)', 'Butterfly Kiss (2006)', 'The Most Reluctant Convert: The Untold Story of C.S. Lewis (2021)', 'The Prophetess of Thebes (1907)', 'David and the Elves (2021)', '4 Wedding Planners (2011)', 'The Pulitzer At 100 (2017)', 'The Fox and the Hare (1973)', 'We Can Do That (2008)', 'Like Two Drops of Water (1963)', 'The Love Goddesses (1965)', 'Up to the World (2014)', 'Nightmare (1961)', \"'Master Harold' ... And the Boys (2010)\", 'Snow Queen, The (Lumikuningatar) (1986)', 'Escape from East Berlin (1962)', 'Naked (2002)', \"I Don't Speak English (1995)\", 'Chasers, The (Jakten) (1959)', 'Hollidaysburg (2014)', 'The Midnight Game (2013)', 'Flying Dagger (1993)', 'Man of the Moment (1955)', 'Late Bloomer (2016)', 'Investigating Sex (a.k.a. Intimate Affairs) (2001)', 'Pepo (1935)', 'The Parisian Cobbler (1927)', 'Cherry Pop (2017)', 'The Birth of Magellan: Cadenza I (1977)', 'Thought of You (2010)', 'The Hangman (1964)', 'Os Trapalhões no Auto da Compadecida (1987)', 'Velociraptor (2014)', 'What We Have (2014)', 'Background to Danger (1943)', 'The Eyes of the Mummy (1918)', 'When Women Had Tails (1970)', \"L'altra metà del cielo (1977)\", 'Out of This World (1945)', 'Love in Bora Bora (2018)', 'Ragin Cajun Redneck Gators (2013)', 'Psychotic (2012)']\n",
      "Least Polarizing Movies by std: ['The Night Before Christmas (1905)', 'What Really Frightens You? (2009)', 'The Visitants (1986)', 'Blood Theatre (1984)', 'Happy Hell Night (1992)', 'RSC Live: King Lear (2016)', \"Much Ado About Nothing: Shakespeare's Globe Theatre (2012)\", \"Romeo and Juliet: Shakespeare's Globe Theatre (2010)\", 'Finding Fatimah (2017)', 'Der große Bagarozy (1999)', \"The 'Teddy' Bears (1907)\", 'Caravaggio: The Soul and the Blood (2018)', 'The Charmer (1906)', 'The Mysterious Box (1903)', 'The Roller Skate Craze (1907)', 'Why Jones Discharged His Clerks (1900)', 'Immigration Game (2017)', 'Bleeding Hearts (2013)', 'The Answer (2015)', 'Voices Through Time (1996)', 'The Eternity Man (2008)', 'Ruhr (2009)', 'The Seagull (1972)', 'The Dreamer of Oz (1990)', 'Memphis: The Broadway Musical (2011)', 'Pufnstuf (1970)', 'Seizure (1974)', 'The Righteous Thief (2009)', 'Kaze to Ki no Uta Sanctus: Sei Naru Kana (1987)', 'Killer Clans (1976)', 'Guarapo (1989)', 'Voyage to Metropolis (2010)', 'Gulliver Returns (2021)', 'Small Roads (2011)', 'Dark Streets (2008)', 'The Kopeck (2002)', 'The Enemy (2011)', 'Macbeth (2001)', 'The Trial of Tony Blair (2007)', 'Poilus (2016)', \"It's Alive! (1969)\", 'The Barnyard Concert (1930)', 'Seeking Asian Female (2012)', 'Bohemian Moon (1999)', 'Montag kommen die Fenster (2006)', 'Flower & Snake (2004)', 'Toy Reanimator (2002)', 'Francis Bacon (1988)', 'Woman of Water (2002)', 'The Belovs (1994)']\n"
     ]
    }
   ],
   "source": [
    "most_polarizing_movie_names_std = [idx_to_title[idx] for idx in most_polarizing_movies_idx_std]\n",
    "least_polarizing_movie_names_std = [idx_to_title[idx] for idx in least_polarizing_movies_idx_std]\n",
    "\n",
    "# Print the movie names\n",
    "print(\"Most Polarizing Movies by std:\", most_polarizing_movie_names_std)\n",
    "print(\"Least Polarizing Movies by std:\", least_polarizing_movie_names_std)"
   ]
  },
  {
   "cell_type": "markdown",
   "metadata": {},
   "source": [
    "## Polarizing Movies By Trait vector length\n",
    "A longer vector indicates that the movie has more pronounced or extreme features along its latent dimensions. For instance:\n",
    "\n",
    "    A movie with a long vector may exhibit strong genre characteristics (e.g., extremely action-packed, heavily comedic).\n",
    "    A movie with a short vector may be more neutral or generic in its features (e.g., not strongly defined by any particular trait).\n",
    "\n",
    "\n",
    "    Long trait vectors: May correspond to movies that are highly distinctive or \"different\" from most others, which could align with being polarizing (since they appeal strongly to some but not to others).\n",
    "    Short trait vectors: May correspond to movies that are generic or broadly appealing, likely to be less polarizing."
   ]
  },
  {
   "cell_type": "code",
   "execution_count": 96,
   "metadata": {},
   "outputs": [],
   "source": [
    "movies_factors,_,_,_,_ = load_model(\"Experiments_ml-32m/B_U_V_F/\")"
   ]
  },
  {
   "cell_type": "code",
   "execution_count": 97,
   "metadata": {},
   "outputs": [
    {
     "data": {
      "text/plain": [
       "(84432,)"
      ]
     },
     "execution_count": 97,
     "metadata": {},
     "output_type": "execute_result"
    }
   ],
   "source": [
    "# Calculate the Euclidean norm (vector length) for each movie\n",
    "vector_lengths = np.linalg.norm(movies_factors, axis=1)\n",
    "vector_lengths.shape\n"
   ]
  },
  {
   "cell_type": "code",
   "execution_count": 98,
   "metadata": {},
   "outputs": [
    {
     "name": "stdout",
     "output_type": "stream",
     "text": [
      "Top polarizing_movies indexes by std: [ 613  339  596  309  332  163  153  609  583  324  655  618   15   53\n",
      "   60  344  159   52 1439  611  628 1440  749 1441  291   88  279  287\n",
      "  675  515  709  514 1194    1  563  831    5  306 1063  466  127  400\n",
      "  369  212  517  888  204  446   21  216]\n",
      "Least polarizing movie indexes by std: [84129 83959 61699 61714 61601 83369 38662 38721 38713 38400 82686 83930\n",
      " 83893 76018 39608 69124 73459 84335 77742 82904 82906 73220 49908 80798\n",
      " 80790 76168 77558 77656 77524 77486 77671 77450 77539 77667 77550 77497\n",
      " 77517 77510 77476 72011 76026 68691 68757 68777 68801 68848 68666 68873\n",
      " 68782 68780]\n"
     ]
    }
   ],
   "source": [
    "\n",
    "most_polarizing_movies_idx = np.argsort(vector_lengths)[-50:][::-1]  # Sort in descending order\n",
    "least_polarizing_movies_idx = np.argsort(vector_lengths)[:50]# Sort in descending order\n",
    "\n",
    "# Print the top 50 indexes\n",
    "print(\"Top polarizing_movies indexes by std:\", most_polarizing_movies_idx)\n",
    "print(\"Least polarizing movie indexes by std:\", least_polarizing_movies_idx)"
   ]
  },
  {
   "cell_type": "code",
   "execution_count": 99,
   "metadata": {},
   "outputs": [
    {
     "data": {
      "text/plain": [
       "array([11.63503738, 11.48841019, 11.47644284, 10.42669243, 10.11230646,\n",
       "        9.90327349,  9.88377378,  9.84320863,  9.83150787,  9.79786509,\n",
       "        9.72775475,  9.70289757,  9.55487253,  9.17080817,  9.13229826,\n",
       "        8.978521  ,  8.66635038,  8.63592142,  8.60576906,  8.55018878,\n",
       "        8.53313517,  8.53299896,  8.50105554,  8.48808288,  8.46221758,\n",
       "        8.45855006,  8.45674578,  8.43765739,  8.39659008,  8.30224411,\n",
       "        8.26087706,  8.20884132,  8.19220405,  8.07084877,  8.06059767,\n",
       "        8.05964855,  8.05816241,  8.02397172,  7.9735171 ,  7.93744893,\n",
       "        7.92391954,  7.86329425,  7.85128971,  7.80808141,  7.77592204,\n",
       "        7.73171296,  7.68354953,  7.66852107,  7.6412049 ,  7.64087123])"
      ]
     },
     "execution_count": 99,
     "metadata": {},
     "output_type": "execute_result"
    }
   ],
   "source": [
    "vector_lengths[most_polarizing_movies_idx]"
   ]
  },
  {
   "cell_type": "code",
   "execution_count": 101,
   "metadata": {},
   "outputs": [
    {
     "name": "stdout",
     "output_type": "stream",
     "text": [
      "Most Polarizing Movies by length: ['Lord of the Rings: The Return of the King, The (2003)', 'Lord of the Rings: The Fellowship of the Ring, The (2001)', 'Lord of the Rings: The Two Towers, The (2002)', 'Blair Witch Project, The (1999)', 'Star Wars: Episode I - The Phantom Menace (1999)', 'Ace Ventura: Pet Detective (1994)', 'Dumb & Dumber (Dumb and Dumber) (1994)', 'Kill Bill: Vol. 1 (2003)', 'Star Wars: Episode II - Attack of the Clones (2002)', 'Natural Born Killers (1994)', 'Star Wars: Episode III - Revenge of the Sith (2005)', 'Kill Bill: Vol. 2 (2004)', 'Star Wars: Episode IV - A New Hope (1977)', 'Star Wars: Episode V - The Empire Strikes Back (1980)', 'Star Wars: Episode VI - Return of the Jedi (1983)', 'Ace Ventura: When Nature Calls (1995)', 'Pulp Fiction (1994)', 'English Patient, The (1996)', 'Harry Potter and the Half-Blood Prince (2009)', 'Matrix Revolutions, The (2003)', 'Harry Potter and the Prisoner of Azkaban (2004)', 'Harry Potter and the Deathly Hallows: Part 1 (2010)', 'Harry Potter and the Order of the Phoenix (2007)', 'Harry Potter and the Deathly Hallows: Part 2 (2011)', 'Matrix Reloaded, The (2003)', 'Titanic (1997)', \"Harry Potter and the Sorcerer's Stone (a.k.a. Harry Potter and the Philosopher's Stone) (2001)\", 'Harry Potter and the Chamber of Secrets (2002)', 'Harry Potter and the Goblet of Fire (2005)', 'Rocky Horror Picture Show, The (1975)', 'Borat: Cultural Learnings of America for Make Benefit Glorious Nation of Kazakhstan (2006)', 'Matrix, The (1999)', '2001: A Space Odyssey (1968)', 'Leaving Las Vegas (1995)', 'Moulin Rouge (2001)', 'Avatar (2009)', 'Babe (1995)', 'Austin Powers: The Spy Who Shagged Me (1999)', 'Napoleon Dynamite (2004)', 'Austin Powers: International Man of Mystery (1997)', 'Eyes Wide Shut (1999)', \"Amelie (Fabuleux destin d'Amélie Poulain, Le) (2001)\", 'Dark Knight, The (2008)', 'Dances with Wolves (1990)', 'American Pie (1999)', 'Hobbit: An Unexpected Journey, The (2012)', 'Star Trek: Generations (1994)', 'Clockwork Orange, A (1971)', 'Forrest Gump (1994)', 'Independence Day (a.k.a. ID4) (1996)']\n"
     ]
    }
   ],
   "source": [
    "most_polarizing_movie_names_length= [idx_to_title[idx] for idx in most_polarizing_movies_idx]\n",
    "\n",
    "# Print the movie names\n",
    "print(\"Most Polarizing Movies by length:\", most_polarizing_movie_names_length)"
   ]
  },
  {
   "cell_type": "code",
   "execution_count": null,
   "metadata": {},
   "outputs": [],
   "source": []
  }
 ],
 "metadata": {
  "kernelspec": {
   "display_name": ".venv",
   "language": "python",
   "name": "python3"
  },
  "language_info": {
   "codemirror_mode": {
    "name": "ipython",
    "version": 3
   },
   "file_extension": ".py",
   "mimetype": "text/x-python",
   "name": "python",
   "nbconvert_exporter": "python",
   "pygments_lexer": "ipython3",
   "version": "3.11.2"
  }
 },
 "nbformat": 4,
 "nbformat_minor": 2
}
